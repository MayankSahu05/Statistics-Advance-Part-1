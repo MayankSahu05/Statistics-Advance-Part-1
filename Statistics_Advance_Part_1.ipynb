{
  "nbformat": 4,
  "nbformat_minor": 0,
  "metadata": {
    "colab": {
      "provenance": []
    },
    "kernelspec": {
      "name": "python3",
      "display_name": "Python 3"
    },
    "language_info": {
      "name": "python"
    }
  },
  "cells": [
    {
      "cell_type": "markdown",
      "source": [
        "# STATISTICS ADVANCE PART 1\n",
        "\n",
        "1. What is a random variable in probability theory?\n",
        "-  A random variable is a numerical value determined by the outcome of a random experiment. It maps outcomes of a sample space to real numbers.\n",
        "\n",
        "2. What are the types of random variables?\n",
        "\n",
        "- -  Discrete Random Variable – Takes countable values (e.g., number of heads in 5 coin tosses).\n",
        "\n",
        " - Continuous Random Variable – Takes any value within a range (e.g., height, weight).\n",
        "\n",
        "3. Difference between discrete and continuous distributions:\n",
        "\n",
        "- - Discrete: Probability is assigned to specific values; represented by Probability Mass Function (PMF).\n",
        "\n",
        " - Continuous: Probability is spread over intervals; represented by Probability Density Function (PDF).\n",
        "\n",
        "4. What are probability distribution functions (PDF)?\n",
        "-  For continuous variables, PDF describes the relative likelihood of the variable taking on a particular value. The area under the curve over an interval gives the probability.\n",
        "\n",
        "5. How do CDFs differ from PDFs?\n",
        "\n",
        "-  - PDF: Shows likelihood density at each point (continuous) or probability at each value (discrete).\n",
        "\n",
        " - CDF: Shows cumulative probability that the variable is less than or equal to a certain value.\n",
        "\n",
        "6. What is a discrete uniform distribution?\n",
        "-  A distribution where all possible discrete outcomes have equal probability.\n",
        "\n",
        "7. Key properties of a Bernoulli distribution:\n",
        "\n",
        "- Two possible outcomes (success/failure).\n",
        "\n",
        " - Parameter\n",
        "𝑝\n",
        "p = probability of success.\n",
        "\n",
        " - Mean =\n",
        "𝑝\n",
        "p, Variance =\n",
        "𝑝\n",
        "(\n",
        "1\n",
        "−\n",
        "𝑝\n",
        ")\n",
        "p(1−p).\n",
        "\n",
        "8. Binomial distribution & usage:\n",
        "-  Represents number of successes in\n",
        "𝑛\n",
        "n independent Bernoulli trials with success probability\n",
        "𝑝\n",
        "p. Used in modeling scenarios like number of defective items in a batch.\n",
        "\n",
        "9. Poisson distribution & application:\n",
        "-  Models the number of events in a fixed interval given a constant average rate and independence of events. Example: Number of customer arrivals per hour.\n",
        "\n",
        "10. Continuous uniform distribution:\n",
        "- - A continuous variable equally likely to take any value between two bounds\n",
        "𝑎\n",
        "a and\n",
        "𝑏\n",
        " - b. PDF is constant over [a, b].\n",
        "\n",
        " 11. Characteristics of a normal distribution:\n",
        "\n",
        "- - Symmetrical, bell-shaped curve.\n",
        "\n",
        " - Mean = Median = Mode.\n",
        "\n",
        " - Defined by mean (μ) and standard deviation (σ).\n",
        "\n",
        " - Total area under curve = 1.\n",
        "\n",
        "12. Standard normal distribution & importance:\n",
        "-  A normal distribution with μ = 0 and σ = 1. Used to standardize values (Z-scores) for comparison.\n",
        "\n",
        "13. Central Limit Theorem (CLT) & importance:\n",
        "-  States that the sampling distribution of the sample mean approaches a normal distribution as sample size increases, regardless of population distribution. Essential for inference.\n",
        "\n",
        "14. CLT relation to normal distribution:\n",
        "-  Even if the original data isn’t normal, the mean of sufficiently large samples follows a normal distribution.\n",
        "\n",
        "15. Application of Z statistics in hypothesis testing:\n",
        "-  Z-statistics help determine whether to reject a null hypothesis by comparing the sample mean to the population mean using standard deviation.\n",
        "\n",
        "16. Z-score calculation & meaning:\n",
        "- Formula:\n",
        "𝑍\n",
        "=\n",
        "𝑋\n",
        "−\n",
        "𝜇\n",
        "𝜎\n",
        "Z=\n",
        "σ\n",
        "X−μ\n",
        "​\n",
        "\n",
        "    Represents how many standard deviations a value is from the mean.\n",
        "\n",
        "17. Point estimates & interval estimates:\n",
        "\n",
        "- - Point estimate: Single value estimate of a population parameter.\n",
        "\n",
        " - Interval estimate: Range of values (confidence interval) within which the parameter is likely to lie.\n",
        "\n",
        "18. Significance of confidence intervals:\n",
        "-  They provide a range with a specified probability (e.g., 95%) of containing the true population parameter.\n",
        "\n",
        "19. Relationship between Z-score & confidence interval:\n",
        "-  Z-scores determine the margin of error in a confidence interval calculation.\n",
        "\n",
        "20. Using Z-scores to compare distributions:\n",
        "-  By standardizing, Z-scores allow comparison of values from different distributions.\n",
        "\n",
        "21. Assumptions for CLT:\n",
        "\n",
        "-  - Random sampling.\n",
        "\n",
        " - Independent observations.\n",
        "\n",
        " - Finite variance.\n",
        "\n",
        " - Large enough sample size.\n",
        "\n",
        "22. Expected value in a probability distribution:\n",
        "-  The long-run average value of a random variable, calculated as\n",
        "𝐸\n",
        "(\n",
        "𝑋\n",
        ")\n",
        "=\n",
        "∑\n",
        "𝑥\n",
        "𝑃\n",
        "(\n",
        "𝑥\n",
        ")\n",
        "E(X)=∑xP(x) (discrete) or\n",
        "𝐸\n",
        "(\n",
        "𝑋\n",
        ")\n",
        "=\n",
        "∫\n",
        "𝑥\n",
        "𝑓\n",
        "(\n",
        "𝑥\n",
        ")\n",
        "𝑑\n",
        "𝑥\n",
        "E(X)=∫xf(x)dx (continuous).\n",
        "\n",
        "23. Probability distribution relation to expected outcome:\n",
        "-  The expected value is the weighted average of all possible outcomes, with probabilities from the distribution as weights."
      ],
      "metadata": {
        "id": "L_kepZUALI7c"
      }
    },
    {
      "cell_type": "markdown",
      "source": [
        "Q1. Generate a random variable and display its value"
      ],
      "metadata": {
        "id": "LSgXY8GLQUp0"
      }
    },
    {
      "cell_type": "code",
      "source": [
        "import random\n",
        "\n",
        "# Generate a random integer between 1 and 100\n",
        "random_variable = random.randint(1, 100)\n",
        "print(\"Random Variable Value:\", random_variable)\n"
      ],
      "metadata": {
        "id": "Cllxhcw2RQ6l"
      },
      "execution_count": null,
      "outputs": []
    },
    {
      "cell_type": "markdown",
      "source": [
        "Q2. Generate a discrete uniform distribution and plot PMF"
      ],
      "metadata": {
        "id": "C6-vPewRRRQN"
      }
    },
    {
      "cell_type": "code",
      "source": [
        "import numpy as np\n",
        "import matplotlib.pyplot as plt\n",
        "\n",
        "# Discrete uniform distribution (like rolling a dice)\n",
        "values = np.arange(1, 7)\n",
        "probabilities = np.ones(len(values)) / len(values)\n",
        "\n",
        "plt.stem(values, probabilities, use_line_collection=True)\n",
        "plt.xlabel(\"Value\")\n",
        "plt.ylabel(\"Probability\")\n",
        "plt.title(\"Discrete Uniform Distribution (PMF)\")\n",
        "plt.show()\n"
      ],
      "metadata": {
        "id": "gOrtYEcERWUd"
      },
      "execution_count": null,
      "outputs": []
    },
    {
      "cell_type": "markdown",
      "source": [
        "Q3. Bernoulli distribution PDF function"
      ],
      "metadata": {
        "id": "ju7hKGp4RWlZ"
      }
    },
    {
      "cell_type": "code",
      "source": [
        "def bernoulli_pdf(x, p):\n",
        "    if x not in [0, 1]:\n",
        "        return 0\n",
        "    return p**x * (1 - p)**(1 - x)\n",
        "\n",
        "p = 0.6\n",
        "print(\"P(X=1):\", bernoulli_pdf(1, p))\n",
        "print(\"P(X=0):\", bernoulli_pdf(0, p))\n"
      ],
      "metadata": {
        "id": "BsZsRgm4RiJJ"
      },
      "execution_count": null,
      "outputs": []
    },
    {
      "cell_type": "markdown",
      "source": [
        "Q4. Simulate binomial distribution (n=10, p=0.5) and plot histogram"
      ],
      "metadata": {
        "id": "4LxYDHaiRihk"
      }
    },
    {
      "cell_type": "code",
      "source": [
        "from scipy.stats import binom\n",
        "\n",
        "n, p = 10, 0.5\n",
        "data = binom.rvs(n, p, size=1000)\n",
        "\n",
        "plt.hist(data, bins=np.arange(-0.5, n+1.5, 1), edgecolor='black')\n",
        "plt.xlabel(\"Number of Successes\")\n",
        "plt.ylabel(\"Frequency\")\n",
        "plt.title(\"Binomial Distribution Simulation\")\n",
        "plt.show()\n"
      ],
      "metadata": {
        "id": "Pt-OO0CXRmh6"
      },
      "execution_count": null,
      "outputs": []
    },
    {
      "cell_type": "markdown",
      "source": [
        "Q5. Create and visualize Poisson distribution"
      ],
      "metadata": {
        "id": "h7GDBG-dRm7J"
      }
    },
    {
      "cell_type": "code",
      "source": [
        "from scipy.stats import poisson\n",
        "\n",
        "mu = 3\n",
        "x = np.arange(0, 10)\n",
        "pmf = poisson.pmf(x, mu)\n",
        "\n",
        "plt.stem(x, pmf, use_line_collection=True)\n",
        "plt.xlabel(\"Number of Events\")\n",
        "plt.ylabel(\"Probability\")\n",
        "plt.title(\"Poisson Distribution\")\n",
        "plt.show()\n"
      ],
      "metadata": {
        "id": "x8gzg-mKRqtV"
      },
      "execution_count": null,
      "outputs": []
    },
    {
      "cell_type": "markdown",
      "source": [
        "Q6. Calculate and plot CDF of a discrete uniform distribution"
      ],
      "metadata": {
        "id": "YkskQpxjRrCN"
      }
    },
    {
      "cell_type": "code",
      "source": [
        "cdf = np.cumsum(probabilities)\n",
        "\n",
        "plt.step(values, cdf, where='post')\n",
        "plt.xlabel(\"Value\")\n",
        "plt.ylabel(\"Cumulative Probability\")\n",
        "plt.title(\"CDF of Discrete Uniform Distribution\")\n",
        "plt.show()\n"
      ],
      "metadata": {
        "id": "Dwbj6mV9Rv4f"
      },
      "execution_count": null,
      "outputs": []
    },
    {
      "cell_type": "markdown",
      "source": [
        "Q7. Generate and visualize continuous uniform distribution"
      ],
      "metadata": {
        "id": "Tj7CLEAhRwKH"
      }
    },
    {
      "cell_type": "code",
      "source": [
        "from scipy.stats import uniform\n",
        "\n",
        "a, b = 0, 10\n",
        "data_uniform = uniform.rvs(a, b-a, size=1000)\n",
        "\n",
        "plt.hist(data_uniform, bins=20, edgecolor='black')\n",
        "plt.title(\"Continuous Uniform Distribution\")\n",
        "plt.show()\n"
      ],
      "metadata": {
        "id": "JFmfhDnERyyq"
      },
      "execution_count": null,
      "outputs": []
    },
    {
      "cell_type": "markdown",
      "source": [
        "Q8. Simulate data from a normal distribution and plot histogram"
      ],
      "metadata": {
        "id": "tJOGTZbtRzEE"
      }
    },
    {
      "cell_type": "code",
      "source": [
        "mu, sigma = 0, 1\n",
        "data_normal = np.random.normal(mu, sigma, 1000)\n",
        "\n",
        "plt.hist(data_normal, bins=30, edgecolor='black')\n",
        "plt.title(\"Normal Distribution\")\n",
        "plt.show()\n"
      ],
      "metadata": {
        "id": "RJCKPJPbR2EY"
      },
      "execution_count": null,
      "outputs": []
    },
    {
      "cell_type": "markdown",
      "source": [
        "Q9. Calculate Z-scores from a dataset and plot them"
      ],
      "metadata": {
        "id": "Y7RDIafRR2VR"
      }
    },
    {
      "cell_type": "code",
      "source": [
        "from scipy.stats import zscore\n",
        "\n",
        "data = np.random.randint(50, 100, size=10)\n",
        "z_scores = zscore(data)\n",
        "\n",
        "plt.plot(data, z_scores, marker='o')\n",
        "plt.xlabel(\"Data\")\n",
        "plt.ylabel(\"Z-score\")\n",
        "plt.title(\"Z-scores of Data\")\n",
        "plt.show()\n"
      ],
      "metadata": {
        "id": "DqBR37h8R4aA"
      },
      "execution_count": null,
      "outputs": []
    },
    {
      "cell_type": "markdown",
      "source": [
        "Q10. Implement CLT for a non-normal distribution"
      ],
      "metadata": {
        "id": "fwCippj8R4qI"
      }
    },
    {
      "cell_type": "code",
      "source": [
        "samples = 1000\n",
        "sample_size = 30\n",
        "means = []\n",
        "\n",
        "for _ in range(samples):\n",
        "    sample = np.random.exponential(scale=2, size=sample_size)\n",
        "    means.append(np.mean(sample))\n",
        "\n",
        "plt.hist(means, bins=30, edgecolor='black')\n",
        "plt.title(\"Central Limit Theorem Simulation\")\n",
        "plt.show()\n"
      ],
      "metadata": {
        "id": "vckn5_wQR775"
      },
      "execution_count": null,
      "outputs": []
    },
    {
      "cell_type": "markdown",
      "source": [
        "Q11. Simulate multiple samples from a normal distribution and verify CLT"
      ],
      "metadata": {
        "id": "k-2tC69UR8V2"
      }
    },
    {
      "cell_type": "code",
      "source": [
        "import numpy as np\n",
        "import matplotlib.pyplot as plt\n",
        "\n",
        "sample_means = []\n",
        "for _ in range(1000):\n",
        "    sample = np.random.normal(loc=50, scale=10, size=30)\n",
        "    sample_means.append(np.mean(sample))\n",
        "\n",
        "plt.hist(sample_means, bins=30, edgecolor='black')\n",
        "plt.title(\"CLT Verification from Normal Distribution\")\n",
        "plt.show()\n"
      ],
      "metadata": {
        "id": "FlbQEe2kR-8C"
      },
      "execution_count": null,
      "outputs": []
    },
    {
      "cell_type": "markdown",
      "source": [
        "Q12. Plot the standard normal distribution (mean=0, std=1)"
      ],
      "metadata": {
        "id": "gO7iCFZ7R_Mx"
      }
    },
    {
      "cell_type": "code",
      "source": [
        "from scipy.stats import norm\n",
        "\n",
        "x = np.linspace(-4, 4, 1000)\n",
        "plt.plot(x, norm.pdf(x, 0, 1))\n",
        "plt.title(\"Standard Normal Distribution\")\n",
        "plt.xlabel(\"Z\")\n",
        "plt.ylabel(\"Probability Density\")\n",
        "plt.show()\n"
      ],
      "metadata": {
        "id": "zQddlmsESCfd"
      },
      "execution_count": null,
      "outputs": []
    },
    {
      "cell_type": "markdown",
      "source": [
        "Q13. Generate random variables and calculate probabilities using the binomial distribution"
      ],
      "metadata": {
        "id": "aWRfc203SC2k"
      }
    },
    {
      "cell_type": "code",
      "source": [
        "from scipy.stats import binom\n",
        "\n",
        "n, p = 10, 0.5\n",
        "k = np.arange(0, n+1)\n",
        "binom_probs = binom.pmf(k, n, p)\n",
        "\n",
        "print(\"Binomial Probabilities:\", binom_probs)\n"
      ],
      "metadata": {
        "id": "Iy7yFkRTSFQR"
      },
      "execution_count": null,
      "outputs": []
    },
    {
      "cell_type": "markdown",
      "source": [
        "Q14. Calculate the Z-score for a given data point"
      ],
      "metadata": {
        "id": "zHTsaEpDSFf0"
      }
    },
    {
      "cell_type": "code",
      "source": [
        "value = 75\n",
        "mu = 70\n",
        "sigma = 5\n",
        "\n",
        "z_score = (value - mu) / sigma\n",
        "print(\"Z-score:\", z_score)\n"
      ],
      "metadata": {
        "id": "a0Jfd22ASH4z"
      },
      "execution_count": null,
      "outputs": []
    },
    {
      "cell_type": "markdown",
      "source": [
        "Q15. Hypothesis testing using Z-statistics"
      ],
      "metadata": {
        "id": "fbsGINnZSIUc"
      }
    },
    {
      "cell_type": "code",
      "source": [
        "import numpy as np\n",
        "\n",
        "# Example values\n",
        "pop_mean = 100\n",
        "sigma = 15\n",
        "sample_mean = 105\n",
        "n = 50\n",
        "\n",
        "z_stat = (sample_mean - pop_mean) / (sigma / np.sqrt(n))\n",
        "print(\"Z-statistic:\", z_stat)\n"
      ],
      "metadata": {
        "id": "xX9dwTXLSLnR"
      },
      "execution_count": null,
      "outputs": []
    },
    {
      "cell_type": "markdown",
      "source": [
        "Q16. Create a confidence interval for a dataset"
      ],
      "metadata": {
        "id": "tjcA9g9ESL4q"
      }
    },
    {
      "cell_type": "code",
      "source": [
        "data = np.random.normal(50, 5, 100)\n",
        "mean = np.mean(data)\n",
        "std_err = np.std(data, ddof=1) / np.sqrt(len(data))\n",
        "z_value = 1.96  # 95% confidence level\n",
        "\n",
        "ci_lower = mean - z_value * std_err\n",
        "ci_upper = mean + z_value * std_err\n",
        "\n",
        "print(f\"95% Confidence Interval: ({ci_lower}, {ci_upper})\")\n"
      ],
      "metadata": {
        "id": "KHnAkUI6SOYG"
      },
      "execution_count": null,
      "outputs": []
    },
    {
      "cell_type": "markdown",
      "source": [
        "Q17. Generate normal distribution data and calculate confidence interval for its mean"
      ],
      "metadata": {
        "id": "QQm8e6E7SOqR"
      }
    },
    {
      "cell_type": "code",
      "source": [
        "data = np.random.normal(100, 15, 200)\n",
        "mean = np.mean(data)\n",
        "std_err = np.std(data, ddof=1) / np.sqrt(len(data))\n",
        "z_value = 1.96\n",
        "\n",
        "ci_lower = mean - z_value * std_err\n",
        "ci_upper = mean + z_value * std_err\n",
        "\n",
        "print(f\"Mean: {mean}\")\n",
        "print(f\"95% Confidence Interval: ({ci_lower}, {ci_upper})\")\n"
      ],
      "metadata": {
        "id": "4lCYFWsySSvO"
      },
      "execution_count": null,
      "outputs": []
    },
    {
      "cell_type": "markdown",
      "source": [
        "Q18. Calculate and visualize the PDF of a normal distribution"
      ],
      "metadata": {
        "id": "0dICwQ6oSTDU"
      }
    },
    {
      "cell_type": "code",
      "source": [
        "x = np.linspace(-4, 4, 1000)\n",
        "plt.plot(x, norm.pdf(x, 0, 1))\n",
        "plt.title(\"PDF of Normal Distribution\")\n",
        "plt.xlabel(\"X\")\n",
        "plt.ylabel(\"Probability Density\")\n",
        "plt.show()\n"
      ],
      "metadata": {
        "id": "2Y5dg6HJSWE_"
      },
      "execution_count": null,
      "outputs": []
    },
    {
      "cell_type": "markdown",
      "source": [
        "Q19. Calculate and interpret the CDF of a Poisson distribution"
      ],
      "metadata": {
        "id": "woaPKi_tSWXR"
      }
    },
    {
      "cell_type": "code",
      "source": [
        "from scipy.stats import poisson\n",
        "\n",
        "x = np.arange(0, 10)\n",
        "cdf = poisson.cdf(x, mu=3)\n",
        "\n",
        "plt.step(x, cdf, where='post')\n",
        "plt.title(\"CDF of Poisson Distribution\")\n",
        "plt.xlabel(\"X\")\n",
        "plt.ylabel(\"Cumulative Probability\")\n",
        "plt.show()\n"
      ],
      "metadata": {
        "id": "vIcBsUiFSadT"
      },
      "execution_count": null,
      "outputs": []
    },
    {
      "cell_type": "markdown",
      "source": [
        "Q20. Simulate a continuous uniform distribution and calculate its expected value"
      ],
      "metadata": {
        "id": "KJh1YBYFSa1J"
      }
    },
    {
      "cell_type": "code",
      "source": [
        "from scipy.stats import uniform\n",
        "\n",
        "data_uniform = uniform.rvs(0, 10, size=1000)\n",
        "expected_value = np.mean(data_uniform)\n",
        "print(\"Expected Value:\", expected_value)\n"
      ],
      "metadata": {
        "id": "nfcTKnF0SdL-"
      },
      "execution_count": null,
      "outputs": []
    },
    {
      "cell_type": "markdown",
      "source": [
        "Q21. Compare the standard deviations of two datasets and visualize"
      ],
      "metadata": {
        "id": "B8w0S7icSdfd"
      }
    },
    {
      "cell_type": "code",
      "source": [
        "data1 = np.random.normal(50, 5, 100)\n",
        "data2 = np.random.normal(50, 10, 100)\n",
        "\n",
        "std1 = np.std(data1)\n",
        "std2 = np.std(data2)\n",
        "\n",
        "print(\"Std Dev Dataset 1:\", std1)\n",
        "print(\"Std Dev Dataset 2:\", std2)\n",
        "\n",
        "plt.bar(['Dataset 1', 'Dataset 2'], [std1, std2], color=['blue', 'orange'])\n",
        "plt.title(\"Standard Deviation Comparison\")\n",
        "plt.show()\n"
      ],
      "metadata": {
        "id": "Cops42YqSiGO"
      },
      "execution_count": null,
      "outputs": []
    },
    {
      "cell_type": "markdown",
      "source": [
        "Q22. Calculate the range and interquartile range (IQR) of a dataset"
      ],
      "metadata": {
        "id": "b53liBuASii3"
      }
    },
    {
      "cell_type": "code",
      "source": [
        "data = np.random.normal(50, 5, 1000)\n",
        "\n",
        "data_range = np.ptp(data)\n",
        "q75, q25 = np.percentile(data, [75, 25])\n",
        "iqr = q75 - q25\n",
        "\n",
        "print(\"Range:\", data_range)\n",
        "print(\"IQR:\", iqr)\n"
      ],
      "metadata": {
        "id": "iDaDUltgSlZ-"
      },
      "execution_count": null,
      "outputs": []
    },
    {
      "cell_type": "markdown",
      "source": [
        "Q23. Calculate skewness and kurtosis of a dataset"
      ],
      "metadata": {
        "id": "DfYpjNGiSl04"
      }
    },
    {
      "cell_type": "code",
      "source": [
        "from scipy.stats import skew, kurtosis\n",
        "\n",
        "data = np.random.normal(0, 1, 1000)\n",
        "\n",
        "print(\"Skewness:\", skew(data))\n",
        "print(\"Kurtosis:\", kurtosis(data))\n"
      ],
      "metadata": {
        "id": "vtpwTH94Sn3O"
      },
      "execution_count": null,
      "outputs": []
    }
  ]
}